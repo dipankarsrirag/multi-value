{
 "cells": [
  {
   "cell_type": "code",
   "execution_count": 1,
   "id": "2988f528",
   "metadata": {},
   "outputs": [],
   "source": [
    "import pandas as pd"
   ]
  },
  {
   "cell_type": "code",
   "execution_count": 6,
   "id": "e2d39903",
   "metadata": {},
   "outputs": [
    {
     "data": {
      "text/plain": [
       "0      0.0\n",
       "1      0.3\n",
       "2      0.0\n",
       "3      0.6\n",
       "4      0.0\n",
       "      ... \n",
       "231    0.0\n",
       "232    0.0\n",
       "233    0.0\n",
       "234    1.0\n",
       "235    0.3\n",
       "Name: Australian English, Length: 236, dtype: float64"
      ]
     },
     "execution_count": 6,
     "metadata": {},
     "output_type": "execute_result"
    }
   ],
   "source": [
    "att_vec = pd.read_csv('./resources/attestation_vectors.csv')[\"Australian English\"]\n",
    "att_vec"
   ]
  },
  {
   "cell_type": "code",
   "execution_count": null,
   "id": "e45cd210",
   "metadata": {},
   "outputs": [],
   "source": []
  }
 ],
 "metadata": {
  "kernelspec": {
   "display_name": ".venv",
   "language": "python",
   "name": "python3"
  },
  "language_info": {
   "codemirror_mode": {
    "name": "ipython",
    "version": 3
   },
   "file_extension": ".py",
   "mimetype": "text/x-python",
   "name": "python",
   "nbconvert_exporter": "python",
   "pygments_lexer": "ipython3",
   "version": "3.11.9"
  }
 },
 "nbformat": 4,
 "nbformat_minor": 5
}
